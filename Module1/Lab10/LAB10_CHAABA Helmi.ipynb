{
 "cells": [
  {
   "cell_type": "markdown",
   "id": "d4f24255",
   "metadata": {},
   "source": [
    "Consider an array/list of sheep where some sheep may be missing from their place. We need a function that counts the number of sheep present in the array (true means present)."
   ]
  },
  {
   "cell_type": "code",
   "execution_count": 28,
   "id": "30acdf33",
   "metadata": {},
   "outputs": [],
   "source": [
    "list = [True,  True,  True,  False, True,  True,  True,  True , True,  False, True,  False, True,  False, False, True , True,  True,  True,  True , False, False, True,  True]\n"
   ]
  },
  {
   "cell_type": "code",
   "execution_count": 44,
   "id": "22acfc3a",
   "metadata": {},
   "outputs": [
    {
     "data": {
      "text/plain": [
       "17"
      ]
     },
     "execution_count": 44,
     "metadata": {},
     "output_type": "execute_result"
    }
   ],
   "source": [
    "def CountingSheep(list):\n",
    "    i=0\n",
    "    for element in list:\n",
    "        if element==True:\n",
    "            i+=1\n",
    "        else:\n",
    "            continue\n",
    "    return i\n",
    "sheep=[True,  True,  True,  False, True,  True,  True,  True ,True,\n",
    "       False, True,  False, True,  False, False, True ,True,  True,\n",
    "       True,  True ,False, False, True,  True]\n",
    "CountingSheep(sheep)"
   ]
  },
  {
   "cell_type": "code",
   "execution_count": 58,
   "id": "7026ae61",
   "metadata": {},
   "outputs": [
    {
     "name": "stdout",
     "output_type": "stream",
     "text": [
      "['Keep', 'Keep', 'Keep']\n"
     ]
    }
   ],
   "source": [
    "my_list = ['Keep', 'Remove', 'Keep', 'Remove', 'Keep']\n",
    "my_list2 = []\n",
    "for i in range (0, len(my_list)):\n",
    "    if i % 2 != 1:\n",
    "        my_list2.append(my_list[i])\n",
    "print(my_list2)"
   ]
  },
  {
   "cell_type": "code",
   "execution_count": 60,
   "id": "e5b0e27c",
   "metadata": {},
   "outputs": [
    {
     "name": "stdout",
     "output_type": "stream",
     "text": [
      "Please input a non-negative number 45901\n",
      "['1', '0', '9', '5', '4']\n"
     ]
    }
   ],
   "source": [
    "x = int(input(\"Please input a non-negative number \"))\n",
    "y = str(x)\n",
    "list=[]\n",
    "for i in range(0,len(y)):\n",
    "    list.append(y[i])\n",
    "print(list[::-1])"
   ]
  },
  {
   "cell_type": "code",
   "execution_count": 61,
   "id": "0b9e6a13",
   "metadata": {},
   "outputs": [
    {
     "name": "stdout",
     "output_type": "stream",
     "text": [
      "Please input a non-negative number 1919\n",
      "181181\n"
     ]
    }
   ],
   "source": [
    "x = int(input(\"Please input a non-negative number \"))\n",
    "y = str(x)\n",
    "list=[]\n",
    "str1 =''\n",
    "for i in range(0,len(y)):\n",
    "    list.append(int(y[i])**2)\n",
    "for i in list:\n",
    "    str1 = str1 + str(i)\n",
    "print(str1)"
   ]
  }
 ],
 "metadata": {
  "kernelspec": {
   "display_name": "Python 3 (ipykernel)",
   "language": "python",
   "name": "python3"
  },
  "language_info": {
   "codemirror_mode": {
    "name": "ipython",
    "version": 3
   },
   "file_extension": ".py",
   "mimetype": "text/x-python",
   "name": "python",
   "nbconvert_exporter": "python",
   "pygments_lexer": "ipython3",
   "version": "3.9.7"
  }
 },
 "nbformat": 4,
 "nbformat_minor": 5
}
