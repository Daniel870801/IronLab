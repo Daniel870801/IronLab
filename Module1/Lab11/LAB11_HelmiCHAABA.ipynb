{
 "cells": [
  {
   "cell_type": "code",
   "execution_count": 7,
   "id": "17edfffa",
   "metadata": {},
   "outputs": [
    {
     "name": "stdout",
     "output_type": "stream",
     "text": [
      "True\n",
      "True\n",
      "True\n"
     ]
    }
   ],
   "source": [
    "class List:\n",
    "    def remove_(self, integer_list, values_list):\n",
    "        l1 = []\n",
    "        for i in integer_list:\n",
    "            if i not in values_list:\n",
    "                l1.append(i)\n",
    "        return l1\n",
    "\n",
    "l = List()\n",
    "\n",
    "integer_list = [1, 1, 2 ,3 ,1 ,2 ,3 ,4] \n",
    "values_list = [1, 3] \n",
    "print(l.remove_(integer_list, values_list) == [2, 2, 4])\n",
    "\n",
    "integer_list = [1, 1, 2 ,3 ,1 ,2 ,3 ,4, 4, 3 ,5, 6, 7, 2, 8] \n",
    "values_list = [1, 3, 4, 2] \n",
    "print(l.remove_(integer_list, values_list) == [5, 6 ,7 ,8])\n",
    "\n",
    "integer_list = [8, 2, 7, 2, 3, 4, 6, 5, 4, 4, 1, 2 , 3] \n",
    "values_list = [2, 4, 3] \n",
    "print(l.remove_(integer_list, values_list) == [8, 7, 6, 5, 1])\n",
    "\n"
   ]
  },
  {
   "cell_type": "code",
   "execution_count": 25,
   "id": "f7754cdb",
   "metadata": {},
   "outputs": [
    {
     "name": "stdout",
     "output_type": "stream",
     "text": [
      "[(1, 3), (3, 2)]\n",
      "[(1, 7), (8, 5), (4, 0)]\n",
      "[(1, 0), (8, 0), (4, 0)]\n"
     ]
    }
   ],
   "source": [
    "class List(object):\n",
    "    def count_spec_digits(self, integers_list, digits_list):\n",
    "        return [(d, sum(str(i).count(str(d)) for i in integers_list)) for d in digits_list]\n",
    "\n",
    "l = List()\n",
    "\n",
    "integers_list =  [1, 1, 2 ,3 ,1 ,2 ,3 ,4]\n",
    "digits_list = [1, 3]\n",
    "print(l.count_spec_digits(integers_list, digits_list))\n",
    "\n",
    "integers_list = [-18, -31, 81, -19, 111, -888]\n",
    "digits_list = [1, 8, 4]\n",
    "print(l.count_spec_digits(integers_list, digits_list))\n",
    "\n",
    "integers_list = [-77, -65, 56, -79, 6666, 222]\n",
    "digits_list = [1, 8, 4]\n",
    "print(l.count_spec_digits(integers_list, digits_list))"
   ]
  },
  {
   "cell_type": "code",
   "execution_count": 16,
   "id": "43215e5c",
   "metadata": {},
   "outputs": [
    {
     "name": "stdout",
     "output_type": "stream",
     "text": [
      "[('a', 5), ('b', 2), ('r', 2), ('c', 1), ('d', 1)]\n"
     ]
    }
   ],
   "source": [
    "from collections import Counter\n",
    "\n",
    "def ordered_count(input):\n",
    "    return list(Counter(input).items())\n",
    "print(ordered_count(\"abracadabra\"))"
   ]
  }
 ],
 "metadata": {
  "kernelspec": {
   "display_name": "Python 3 (ipykernel)",
   "language": "python",
   "name": "python3"
  },
  "language_info": {
   "codemirror_mode": {
    "name": "ipython",
    "version": 3
   },
   "file_extension": ".py",
   "mimetype": "text/x-python",
   "name": "python",
   "nbconvert_exporter": "python",
   "pygments_lexer": "ipython3",
   "version": "3.9.7"
  }
 },
 "nbformat": 4,
 "nbformat_minor": 5
}
